{
 "cells": [
  {
   "cell_type": "code",
   "execution_count": 16,
   "id": "e3c5965a-8340-4923-83d3-9d6dcf59db44",
   "metadata": {},
   "outputs": [],
   "source": [
    "import pandas as pd\n",
    "import cvxpy as cp\n",
    "import numpy as np"
   ]
  },
  {
   "cell_type": "code",
   "execution_count": 3,
   "id": "bd79c485-fee0-4648-938b-00d37ec81bd7",
   "metadata": {},
   "outputs": [],
   "source": [
    "df = pd.read_csv(\"~/Desktop/OSU/OSU Senior/Fall/ISE 3230/poi_and_kiosk_by_ct_data.csv\")"
   ]
  },
  {
   "cell_type": "code",
   "execution_count": 8,
   "id": "2bf17e92-b8c9-4250-a80b-f3071f0e0fd6",
   "metadata": {},
   "outputs": [],
   "source": [
    "df['COUNTYFP'].unique()\n",
    "\n",
    "category_map = {\n",
    "    5 : 1500, # Bronx\n",
    "    47 : 1000, # Brooklyn\n",
    "    61 : 1250, # Manhattan\n",
    "    81 : 1500, # Quenns\n",
    "    85 : 1100, # Staten Island\n",
    "}\n",
    "\n",
    "df['Cost'] = df['COUNTYFP'].map(category_map)"
   ]
  },
  {
   "cell_type": "code",
   "execution_count": 35,
   "id": "0e41d104-3c33-48bc-86b7-629aba01d896",
   "metadata": {},
   "outputs": [],
   "source": [
    "geoid = df['GEOID']\n",
    "kiosks=df['kiosks'].to_numpy()\n",
    "pop=df['population'].to_numpy()\n",
    "pois=df['pois'].to_numpy()\n",
    "cost=df['Cost'].to_numpy()\n",
    "borough=df['COUNTYFP']\n",
    "\n",
    "pois = np.nan_to_num(pois, nan=1, posinf=1, neginf=1)"
   ]
  },
  {
   "cell_type": "code",
   "execution_count": 46,
   "id": "811ab752-4f60-4d70-8fba-c26fc0db1c0a",
   "metadata": {},
   "outputs": [
    {
     "data": {
      "text/plain": [
       "array([1.3 , 0.45, 0.5 , ..., 0.2 , 0.15, 1.4 ])"
      ]
     },
     "execution_count": 46,
     "metadata": {},
     "output_type": "execute_result"
    }
   ],
   "source": [
    "n = len(geoid)"
   ]
  },
  {
   "cell_type": "code",
   "execution_count": 51,
   "id": "92577432-26f1-4edc-8a76-e99802c24663",
   "metadata": {},
   "outputs": [
    {
     "name": "stdout",
     "output_type": "stream",
     "text": [
      "===============================================================================\n",
      "                                     CVXPY                                     \n",
      "                                     v1.5.3                                    \n",
      "===============================================================================\n",
      "(CVXPY) Nov 25 12:31:28 AM: Your problem has 2327 variables, 11635 constraints, and 0 parameters.\n",
      "(CVXPY) Nov 25 12:31:28 AM: It is compliant with the following grammars: DCP, DQCP\n",
      "(CVXPY) Nov 25 12:31:28 AM: (If you need to solve this problem multiple times, but with different data, consider using parameters.)\n",
      "(CVXPY) Nov 25 12:31:28 AM: CVXPY will first compile your problem; then, it will invoke a numerical solver to obtain a solution.\n",
      "(CVXPY) Nov 25 12:31:28 AM: Your problem is compiled with the CPP canonicalization backend.\n",
      "-------------------------------------------------------------------------------\n",
      "                                  Compilation                                  \n",
      "-------------------------------------------------------------------------------\n",
      "(CVXPY) Nov 25 12:31:28 AM: Compiling problem (target solver=GUROBI).\n",
      "(CVXPY) Nov 25 12:31:28 AM: Reduction chain: CvxAttr2Constr -> Qp2SymbolicQp -> QpMatrixStuffing -> GUROBI\n",
      "(CVXPY) Nov 25 12:31:28 AM: Applying reduction CvxAttr2Constr\n",
      "(CVXPY) Nov 25 12:31:28 AM: Applying reduction Qp2SymbolicQp\n",
      "(CVXPY) Nov 25 12:31:28 AM: Applying reduction QpMatrixStuffing\n",
      "(CVXPY) Nov 25 12:31:28 AM: Applying reduction GUROBI\n",
      "(CVXPY) Nov 25 12:31:28 AM: Finished problem compilation (took 1.956e-01 seconds).\n",
      "-------------------------------------------------------------------------------\n",
      "                                Numerical solver                               \n",
      "-------------------------------------------------------------------------------\n",
      "(CVXPY) Nov 25 12:31:28 AM: Invoking solver GUROBI  to obtain a solution.\n",
      "Set parameter QCPDual to value 1\n",
      "Gurobi Optimizer version 11.0.3 build v11.0.3rc0 (mac64[x86] - Darwin 23.5.0 23F79)\n",
      "\n",
      "CPU model: Intel(R) Core(TM) i3-1000NG4 CPU @ 1.10GHz\n",
      "Thread count: 2 physical cores, 4 logical processors, using up to 4 threads\n",
      "\n",
      "Optimize a model with 11635 rows, 2327 columns and 11635 nonzeros\n",
      "Model fingerprint: 0xc5cf3310\n",
      "Variable types: 0 continuous, 2327 integer (0 binary)\n",
      "Coefficient statistics:\n",
      "  Matrix range     [1e+00, 1e+00]\n",
      "  Objective range  [1e+03, 2e+03]\n",
      "  Bounds range     [0e+00, 0e+00]\n",
      "  RHS range        [6e-04, 4e+04]\n",
      "\n",
      "No start values specified in MIP start\n",
      "\n",
      "Found heuristic solution: objective 2535000.0000\n",
      "Presolve removed 11635 rows and 2327 columns\n",
      "Presolve time: 0.02s\n",
      "Presolve: All rows and columns removed\n",
      "\n",
      "Explored 0 nodes (0 simplex iterations) in 0.08 seconds (0.00 work units)\n",
      "Thread count was 1 (of 4 available processors)\n",
      "\n",
      "Solution count 1: 2.535e+06 \n",
      "\n",
      "Optimal solution found (tolerance 1.00e-04)\n",
      "Best objective 2.535000000000e+06, best bound 2.535000000000e+06, gap 0.0000%\n",
      "-------------------------------------------------------------------------------\n",
      "                                    Summary                                    \n",
      "-------------------------------------------------------------------------------\n",
      "(CVXPY) Nov 25 12:31:29 AM: Problem status: optimal\n",
      "(CVXPY) Nov 25 12:31:29 AM: Optimal value: 2.535e+06\n",
      "(CVXPY) Nov 25 12:31:29 AM: Compilation took 1.956e-01 seconds\n",
      "(CVXPY) Nov 25 12:31:29 AM: Solver (including time spent in interface) took 5.283e-01 seconds\n",
      "Solver status: optimal\n",
      "X values: [-0.  2.  2. ...  1.  1. -0.]\n",
      "Z values: None\n",
      "Objective Function 2535000.0\n"
     ]
    }
   ],
   "source": [
    "X = cp.Variable(n, integer=True)\n",
    "Z = cp.Variable(n, boolean=True)\n",
    "\n",
    "obj_fun = cp.sum(cp.multiply(cost, X))\n",
    "\n",
    "constraints = []\n",
    "constraints.append(X>=0)\n",
    "constraints.append(X<=2000)\n",
    "constraints.append(X <= pois/10 * 2000)\n",
    "constraints.append(X <= pop/5000 * 2000)\n",
    "constraints.append(pop/5000<=kiosks+X)\n",
    "\n",
    "\n",
    "problem = cp.Problem(cp.Minimize(obj_fun), constraints)\n",
    "problem.solve(solver=cp.GUROBI, verbose=True)\n",
    "\n",
    "\n",
    "print(\"Solver status:\", problem.status)\n",
    "print(\"X values:\", X.value)\n",
    "print(\"Objective Function\", obj_fun.value)\n"
   ]
  },
  {
   "cell_type": "code",
   "execution_count": 57,
   "id": "107de44e-9f7e-4e8f-9dd6-3eba91a9c7f5",
   "metadata": {},
   "outputs": [
    {
     "name": "stdout",
     "output_type": "stream",
     "text": [
      "Borough 5 : Kiosks added = 356.0\n",
      "Borough 47 : Kiosks added = 719.0\n",
      "Borough 61 : Kiosks added = 142.0\n",
      "Borough 81 : Kiosks added = 641.0\n",
      "Borough 85 : Kiosks added = 130.0\n"
     ]
    }
   ],
   "source": [
    "sum(X.value)\n",
    "for b in [5, 47, 61, 81, 85]:  # Adjust number of boroughs as needed\n",
    "    # Sum kiosks added in this borough\n",
    "    kiosks_in_borough = np.sum(X.value[borough == b])\n",
    "    print(f\"Borough {b} : Kiosks added = {kiosks_in_borough}\")"
   ]
  }
 ],
 "metadata": {
  "kernelspec": {
   "display_name": "Python 3 (ipykernel)",
   "language": "python",
   "name": "python3"
  },
  "language_info": {
   "codemirror_mode": {
    "name": "ipython",
    "version": 3
   },
   "file_extension": ".py",
   "mimetype": "text/x-python",
   "name": "python",
   "nbconvert_exporter": "python",
   "pygments_lexer": "ipython3",
   "version": "3.12.2"
  }
 },
 "nbformat": 4,
 "nbformat_minor": 5
}
